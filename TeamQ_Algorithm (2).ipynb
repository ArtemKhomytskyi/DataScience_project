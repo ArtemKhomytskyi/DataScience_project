{
 "cells": [
  {
   "cell_type": "markdown",
   "metadata": {
    "id": "4mzQwjwLTn0r"
   },
   "source": [
    "Done by:\n",
    "\n",
    "Tymofii Kuzmenko (20221690)\n",
    "\n",
    "Artem Khomitskyi (20221686)\n",
    "\n",
    "David Azarov (20221688)"
   ]
  },
  {
   "cell_type": "markdown",
   "metadata": {
    "id": "utYL3I8M1N3S"
   },
   "source": [
    "Step 1: Define the best option using profits provided"
   ]
  },
  {
   "cell_type": "code",
   "execution_count": null,
   "metadata": {
    "id": "DTsS0aAJEkJk"
   },
   "outputs": [],
   "source": [
    "import numpy as np\n",
    "%run '/fixed_data.py'\n",
    "\n",
    "for case in data:\n",
    "  # Choosing the max profit and make it the best option\n",
    "  activities = ['foraging', 'farming', 'mining', 'animal_care', 'fishing']\n",
    "  profits = [case['profit_foraging'], case['profit_farming'], case['profit_mining'], case['profit_animal_care'], case['profit_fishing']]\n",
    "  best_option = activities[np.argmax(profits)]\n",
    "  case['best_option'] = best_option\n",
    "  \n",
    "  # Deleting all profits because we don't need them anymore\n",
    "  del case['profit_foraging']\n",
    "  del case['profit_farming']\n",
    "  del case['profit_mining']\n",
    "  del case['profit_animal_care']\n",
    "  del case['profit_fishing']"
   ]
  },
  {
   "cell_type": "markdown",
   "metadata": {
    "id": "3b_CHMe7b624"
   },
   "source": [
    "Step 2: Remove all empty data"
   ]
  },
  {
   "cell_type": "code",
   "execution_count": null,
   "metadata": {
    "id": "5EmRXX6nzWn9"
   },
   "outputs": [],
   "source": [
    "# Cleaning our data from None values \n",
    "data = [case for case in data if not any(value is None for value in case.values())]"
   ]
  },
  {
   "cell_type": "markdown",
   "metadata": {
    "id": "ctIr8Vk6b6Ww"
   },
   "source": [
    "Step 3: Encode our data"
   ]
  },
  {
   "cell_type": "code",
   "execution_count": null,
   "metadata": {
    "id": "BLgBLLvazX16"
   },
   "outputs": [],
   "source": [
    "# Mapping all unique categorial values\n",
    "season_mapping = {'Spring': 0, 'Summer': 1, 'Fall': 2, 'Winter': 3}\n",
    "spirits_mapping = {'very displeased': 0, 'displeased': 1, 'neutral': 2, 'pleased': 3, 'very pleased': 4}\n",
    "fish_category_mapping = {'A': 0, 'A1': 1, 'B': 2, 'B1': 3, 'C': 4, 'C1': 5, 'D': 6, 'D1': 7}\n",
    "forage_category_mapping = {'A': 0, 'B': 1, 'C': 2, 'D': 3}\n",
    "available_quest_mapping = {'profit_foraging': 0, 'profit_farming': 1, 'profit_mining': 2, 'profit_animal_care': 3, 'profit_fishing': 4}\n",
    "best_option_mapping = {'foraging': 0, 'farming': 1, 'mining': 2, 'animal_care': 3, 'fishing': 4}\n",
    "\n",
    "# Changing data from categorial to numeric through loop\n",
    "for case in data:\n",
    "    case['season'] = season_mapping[case['season']]\n",
    "    case['spirits'] = spirits_mapping[case['spirits']]\n",
    "    case['fish_category'] = fish_category_mapping[case['fish_category']]\n",
    "    case['forage_category'] = forage_category_mapping[case['forage_category']]\n",
    "    case['available_quest'] = available_quest_mapping[case['available_quest']]\n",
    "    case['best_option'] = best_option_mapping[case['best_option']]"
   ]
  },
  {
   "cell_type": "markdown",
   "metadata": {
    "id": "-Y-6fcWzb5we"
   },
   "source": [
    "Step 4: Shuffling and spliting of data"
   ]
  },
  {
   "cell_type": "code",
   "execution_count": null,
   "metadata": {
    "id": "M4eipcXjzX33"
   },
   "outputs": [],
   "source": [
    "def shuffle_and_split(data):\n",
    "  # Randomly shuffling our data\n",
    "  np.random.shuffle(data)\n",
    "  \n",
    "  # Spliting in two lists assessor(35% from all data) and helper(65% from all data)\n",
    "  split_index = int(0.65 * len(data))\n",
    "  helper = data[:split_index]\n",
    "  assessor = data[split_index:]\n",
    "  return helper,assessor"
   ]
  },
  {
   "cell_type": "markdown",
   "metadata": {
    "id": "DDfm4N_hb5Lh"
   },
   "source": [
    "Step 5: Creating suggestions"
   ]
  },
  {
   "cell_type": "code",
   "execution_count": null,
   "metadata": {
    "id": "cj17eTlEfIrL"
   },
   "outputs": [],
   "source": [
    "# Function calculates euclidean distance\n",
    "def euclidean_distance(x1, x2):\n",
    "    return np.sqrt(np.sum((x1 - x2) ** 2))\n",
    "\n",
    "# Function finds euclidean distance between x and all other arrays in helper then finds 6 nearest and choose best option \n",
    "def make_suggestion(x, helper):\n",
    "    distances = [euclidean_distance(x, h[0]) for h in helper]\n",
    "    sorted_indices = np.argsort(distances)\n",
    "    k_nearest_indices = sorted_indices[:6]\n",
    "    k_nearest_best_options = [helper[i][1] for i in k_nearest_indices]\n",
    "    suggestion = np.bincount(k_nearest_best_options).argmax()\n",
    "    return suggestion\n",
    "\n",
    "# Convert helper array into feature vectors\n",
    "def create_feature_vectors(helper,assessor):\n",
    "  # Turn helper into list of tuples(numpy array, best_option) to have more easy work with data\n",
    "  helper_vectors = []\n",
    "  for case in helper:\n",
    "      x = np.array([case['season'], case['day'], case['spirits'], int(case['plot_fertilized']), case['fish_category'], case['mining_level'], int(case['desert_unlocked']), int(case['special_crops']), case['forage_category'], int(case['is_raining']), int(case['tomorrow_rain']), case['current_money'], case['available_quest']])\n",
    "      suggestion = case['best_option']\n",
    "      helper_vectors.append((x, suggestion))\n",
    "  \n",
    "  # Create new numpy array from assessor without best option and pulling in function make_suggestion\n",
    "  for case in assessor:\n",
    "      x = np.array([case['season'], case['day'], case['spirits'], int(case['plot_fertilized']), case['fish_category'], case['mining_level'], int(case['desert_unlocked']), int(case['special_crops']), case['forage_category'], int(case['is_raining']), int(case['tomorrow_rain']), case['current_money'], case['available_quest']])\n",
    "      suggestion = make_suggestion(x, helper_vectors)\n",
    "      case['suggested_option'] = suggestion\n",
    "  return assessor"
   ]
  },
  {
   "cell_type": "markdown",
   "metadata": {
    "id": "2W8pr4DGb4ic"
   },
   "source": [
    "Step 6: Calculate success scores for each activity"
   ]
  },
  {
   "cell_type": "code",
   "execution_count": null,
   "metadata": {
    "id": "cPgLHi86fI4I"
   },
   "outputs": [],
   "source": [
    "# Function for calculating success scores for each activity separately\n",
    "def calculate_success_scores(assessor):\n",
    "\n",
    "  # All our activities\n",
    "  activities = ['foraging', 'farming', 'mining', 'animal_care', 'fishing']\n",
    "  \n",
    "  # This dictionary is for storing RA, WS and MS for each activity\n",
    "  activity_counts = {activity: {'RA': 0, 'WS': 0, 'MS': 0} for activity in activities}\n",
    "    \n",
    "  # Loop for calculating Right Answers, Wrong Suggestions and Missing Suggestions for each activity\n",
    "  for case in assessor:\n",
    "      best_option = activities[case['best_option']]\n",
    "      suggested_option = activities[case['suggested_option']]\n",
    "\n",
    "      if best_option == suggested_option:\n",
    "          activity_counts[best_option]['RA'] += 1\n",
    "      else:\n",
    "          activity_counts[best_option]['MS'] += 1\n",
    "          activity_counts[suggested_option]['WS'] += 1\n",
    "\n",
    "  # Dictionary for storing and then returning all success scores\n",
    "  success_scores = {}\n",
    "  \n",
    "  # Loop for calculating success scores for activities\n",
    "  for activity in activities:\n",
    "      RA = activity_counts[activity]['RA']\n",
    "      WS = activity_counts[activity]['WS']\n",
    "      MS = activity_counts[activity]['MS']\n",
    "      if RA!=0:\n",
    "        S1 = RA / (RA + WS)\n",
    "        S2 = RA / (RA + MS)\n",
    "        SCS = 2 * S1 * S2 / (S1 + S2)\n",
    "      else:\n",
    "        SCS = 0\n",
    "      success_scores[activity] = SCS\n",
    "  return success_scores"
   ]
  },
  {
   "cell_type": "markdown",
   "metadata": {
    "id": "IUr9JcF1b3sb"
   },
   "source": [
    "Step 7: Iterating phase(loop 10 times the algorithm)"
   ]
  },
  {
   "cell_type": "code",
   "execution_count": null,
   "metadata": {
    "id": "2ORCjzqpfJEf"
   },
   "outputs": [],
   "source": [
    "# Algorithm_results is dictionary for storing all our success scores for each activity \n",
    "algorithm_results = {'foraging': [], 'farming': [], 'mining': [], 'animal_care': [], 'fishing': []}\n",
    "\n",
    "# Looping our algorithm 10 times and taking data from it\n",
    "for i in range(0,10):\n",
    "  helper,assessor = shuffle_and_split(data)\n",
    "  scs = calculate_success_scores(create_feature_vectors(helper,assessor))\n",
    "  for key in algorithm_results.keys():\n",
    "    algorithm_results[key].append(scs[key])"
   ]
  },
  {
   "cell_type": "markdown",
   "metadata": {
    "id": "q1KylTBDb2cK"
   },
   "source": [
    "Step 8: Calculating all main statistic properties"
   ]
  },
  {
   "cell_type": "code",
   "execution_count": null,
   "metadata": {
    "id": "-pVCg_mIDq1H"
   },
   "outputs": [],
   "source": [
    "# Stat is a dictionary for storing all statistic properties that we will receive\n",
    "stat = {'foraging': {}, 'farming': {}, 'mining': {}, 'animal_care': {}, 'fishing': {}}\n",
    "\n",
    "# Loop is for going through our data in algorithm results and calculate statistic properties\n",
    "for key in algorithm_results.keys():\n",
    "  stat[key]['25th percentile'] = np.percentile(algorithm_results[key],25)\n",
    "  stat[key]['Median'] = np.median(algorithm_results[key])\n",
    "  stat[key]['75th percentile'] = np.percentile(algorithm_results[key],75)\n",
    "  stat[key]['Mean'] = np.mean(algorithm_results[key])\n",
    "  stat[key]['Stdev'] = np.std(algorithm_results[key])"
   ]
  },
  {
   "cell_type": "markdown",
   "metadata": {
    "id": "M8TXDt83b10e"
   },
   "source": [
    "Step 9: Printing received data"
   ]
  },
  {
   "cell_type": "code",
   "execution_count": null,
   "metadata": {
    "colab": {
     "base_uri": "https://localhost:8080/"
    },
    "id": "VyAckL7zKxo-",
    "outputId": "c1ea5cbc-36f0-4be6-805c-242981261034"
   },
   "outputs": [
    {
     "name": "stdout",
     "output_type": "stream",
     "text": [
      "+-----------------+-----------------+-----------------+-----------------+-----------------+-----------------+\n",
      "|                 | foraging        | farming         | mining          | animal_care     | fishing         |\n",
      "+-----------------+-----------------+-----------------+-----------------+-----------------+-----------------+\n",
      "| 25th percentile |          0.2349 |          0.0955 |            0.26 |          0.0307 |          0.3472 |\n",
      "+-----------------+-----------------+-----------------+-----------------+-----------------+-----------------+\n",
      "| Median          |          0.2446 |          0.1033 |          0.2773 |           0.049 |          0.3676 |\n",
      "+-----------------+-----------------+-----------------+-----------------+-----------------+-----------------+\n",
      "| 75th percentile |          0.2632 |          0.1119 |          0.2867 |          0.0962 |          0.3801 |\n",
      "+-----------------+-----------------+-----------------+-----------------+-----------------+-----------------+\n",
      "| Mean            |          0.2485 |          0.1059 |          0.2726 |          0.0574 |           0.363 |\n",
      "+-----------------+-----------------+-----------------+-----------------+-----------------+-----------------+\n",
      "| Stdev           |           0.015 |          0.0293 |          0.0187 |          0.0413 |          0.0236 |\n",
      "+-----------------+-----------------+-----------------+-----------------+-----------------+-----------------+\n"
     ]
    }
   ],
   "source": [
    "# Function for separating rows from each\n",
    "def print_row_separator():\n",
    "    for width in column_widths:\n",
    "        print('+' + '-' * (width + 2), end='')\n",
    "    print('+')\n",
    "\n",
    "# Function for output row of data\n",
    "def print_data_row(row):\n",
    "    for i, column in enumerate(columns):\n",
    "      if type(row[i]) is np.float64:\n",
    "        element = round(row[i],4)\n",
    "      else:\n",
    "        element = row[i]\n",
    "      print(f'| {element:{column_widths[i]}} ', end='')\n",
    "    print('|')\n",
    "\n",
    "# Getting names for columns\n",
    "columns = ['']+list(stat.keys())\n",
    "\n",
    "# Getting rows of data\n",
    "rows = []\n",
    "for key in stat['foraging'].keys():\n",
    "  rows.append([key])  \n",
    "\n",
    "for activity in stat.keys():\n",
    "  i = 0\n",
    "  for key in stat[activity].keys():\n",
    "    rows[i].append(stat[activity][key]) \n",
    "    i += 1 \n",
    "    \n",
    "# Define th wigth of columns\n",
    "column_widths = [15,15,15,15,15,15]\n",
    "\n",
    "# Output the table\n",
    "print_row_separator()\n",
    "print_data_row(columns)\n",
    "print_row_separator()\n",
    "for row in rows:\n",
    "    print_data_row(row)\n",
    "    print_row_separator()"
   ]
  }
 ],
 "metadata": {
  "colab": {
   "provenance": []
  },
  "kernelspec": {
   "display_name": "Python 3 (ipykernel)",
   "language": "python",
   "name": "python3"
  },
  "language_info": {
   "codemirror_mode": {
    "name": "ipython",
    "version": 3
   },
   "file_extension": ".py",
   "mimetype": "text/x-python",
   "name": "python",
   "nbconvert_exporter": "python",
   "pygments_lexer": "ipython3",
   "version": "3.11.5"
  }
 },
 "nbformat": 4,
 "nbformat_minor": 1
}
